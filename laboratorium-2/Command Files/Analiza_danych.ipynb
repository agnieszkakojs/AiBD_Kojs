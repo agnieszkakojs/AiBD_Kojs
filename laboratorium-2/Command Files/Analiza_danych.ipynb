{
 "cells": [
  {
   "cell_type": "code",
   "execution_count": 132,
   "source": [
    "import pandas as pd\r\n"
   ],
   "outputs": [],
   "metadata": {}
  },
  {
   "cell_type": "code",
   "execution_count": 133,
   "source": [
    "# Processing the data\r\n",
    "data = pd.read_csv(r'C:\\Users\\lenovo\\Desktop\\studia\\Semestr V\\Anliza i Bazy Danych\\AiBD_Kojs\\laboratorium-2\\Original Data\\earthquake_data.csv')\r\n",
    "data.head()\r\n",
    "\r\n",
    "# Nadanie nowych nazw dla kolumn\r\n",
    "col1 = 'Worried about earthquakes'\r\n",
    "col2 = 'Worried about the Big One'\r\n",
    "col3 = 'The \"Big One\" will occur in your lifetime?'\r\n",
    "col4 = 'Experienced an earthquake'\r\n",
    "col5 = 'Take precautions for an earthquake'\r\n",
    "col6 = 'Familar with the San Andreas Fault line'\r\n",
    "col7 = 'Familar with the Yellowstone Supervolcano'\r\n",
    "col8 = 'Age'\r\n",
    "col9 = 'Gender'\r\n",
    "col10 = 'Total household combined money'\r\n",
    "col11 = 'US Region'\r\n",
    "\r\n"
   ],
   "outputs": [],
   "metadata": {}
  },
  {
   "cell_type": "code",
   "execution_count": 134,
   "source": [
    "copy_data = data\r\n",
    "data.head(30)\r\n",
    "new_column_name = [col1, col2, col3, col4, col5, col6, col7, col8, col9, col10, col11]\r\n",
    "\r\n",
    "# Zmiana nazw kolumn na nowe\r\n",
    "copy_data.columns = new_column_name\r\n",
    "\r\n",
    "# Zmienienie Nanów na Prefer not to answer w jednej kolumnie\r\n",
    "copy_data['Total household combined money'] = copy_data['Total household combined money'].fillna('Prefer not to answer')\r\n",
    "\r\n",
    "# Usunięcie wierszy, gdzie występuje jakikolwiek Nan\r\n",
    "copy_data.dropna(axis=0, inplace=True)\r\n",
    "copy_data = copy_data.reset_index(drop=True)\r\n",
    "\r\n",
    "copy_data.head(10)\r\n",
    "copy_data.to_csv(r'C:\\Users\\lenovo\\Desktop\\studia\\Semestr V\\Anliza i Bazy Danych\\AiBD_Kojs\\laboratorium-2\\Analysis Data\\earthquake_data_clean.csv', index=False)"
   ],
   "outputs": [],
   "metadata": {}
  },
  {
   "cell_type": "code",
   "execution_count": 135,
   "source": [
    "# Create new table\r\n",
    "new_dataframe = copy_data.loc[0:copy_data.shape[0], ['The \"Big One\" will occur in your lifetime?', 'Age', 'Gender']]\r\n",
    "new_dataframe.head(200)\r\n",
    "\r\n",
    "new_dataframe.to_csv(r'C:\\Users\\lenovo\\Desktop\\studia\\Semestr V\\Anliza i Bazy Danych\\AiBD_Kojs\\laboratorium-2\\Analysis Data\\earthquake_data_newframe.csv', index=False)"
   ],
   "outputs": [],
   "metadata": {}
  },
  {
   "cell_type": "code",
   "execution_count": 136,
   "source": [
    "# Generating the results"
   ],
   "outputs": [],
   "metadata": {}
  }
 ],
 "metadata": {
  "interpreter": {
   "hash": "8d7479a859c55414954af77e700e50514d78a6d4c3f36b05d2f880335fe633c1"
  },
  "kernelspec": {
   "name": "python3",
   "display_name": "Python 3.8.3rc1 32-bit"
  },
  "language_info": {
   "name": "python",
   "version": "3.8.3rc1",
   "mimetype": "text/x-python",
   "codemirror_mode": {
    "name": "ipython",
    "version": 3
   },
   "pygments_lexer": "ipython3",
   "nbconvert_exporter": "python",
   "file_extension": ".py"
  },
  "orig_nbformat": 4
 },
 "nbformat": 4,
 "nbformat_minor": 2
}