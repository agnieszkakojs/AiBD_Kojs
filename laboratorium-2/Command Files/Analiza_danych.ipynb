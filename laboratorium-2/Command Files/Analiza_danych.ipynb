{
 "cells": [
  {
   "cell_type": "code",
   "execution_count": 88,
   "source": [
    "import pandas as pd\r\n"
   ],
   "outputs": [],
   "metadata": {}
  },
  {
   "cell_type": "code",
   "execution_count": 89,
   "source": [
    "# Processing the data\r\n",
    "data = pd.read_csv(r'C:\\Users\\lenovo\\Desktop\\studia\\Semestr V\\Anliza i Bazy Danych\\AiBD_Kojs\\laboratorium-2\\Original Data\\earthquake_data.csv')\r\n",
    "data.head()\r\n",
    "\r\n",
    "# Nadanie nowych nazw dla kolumn\r\n",
    "col1 = 'Worried about earthquakes'\r\n",
    "col2 = 'Worried about the Big One'\r\n",
    "col3 = 'The \"Big One\" will occur in your lifetime?'\r\n",
    "col4 = 'Experienced an earthquake'\r\n",
    "col5 = 'Take precautions for an earthquake'\r\n",
    "col6 = 'Familar with the San Andreas Fault line'\r\n",
    "col7 = 'Familar with the Yellowstone Supervolcano'\r\n",
    "col8 = 'Age'\r\n",
    "col9 = 'Gender'\r\n",
    "col10 = 'Total household combined money'\r\n",
    "col11 = 'US Region'\r\n",
    "\r\n"
   ],
   "outputs": [],
   "metadata": {}
  },
  {
   "cell_type": "code",
   "execution_count": 90,
   "source": [
    "copy_data = data\r\n",
    "data.head(30)\r\n",
    "new_column_name = [col1, col2, col3, col4, col5, col6, col7, col8, col9, col10, col11]\r\n",
    "\r\n",
    "# Zmiana nazw kolumn na nowe\r\n",
    "copy_data.columns = new_column_name\r\n",
    "\r\n",
    "# Zmienienie Nanów na Prefer not to answer w jednej kolumnie\r\n",
    "copy_data['Total household combined money'] = copy_data['Total household combined money'].fillna('Prefer not to answer')\r\n",
    "\r\n",
    "# Usunięcie wierszy, gdzie występuje jakikolwiek Nan\r\n",
    "copy_data.dropna(axis=0, inplace=True)\r\n",
    "copy_data = copy_data.reset_index(drop=True)\r\n",
    "\r\n",
    "copy_data.head(10)\r\n",
    "copy_data.to_csv('earthquake_data_clean.csv', index=False)"
   ],
   "outputs": [],
   "metadata": {}
  },
  {
   "cell_type": "code",
   "execution_count": 91,
   "source": [
    "# Create new table\r\n",
    "new_dataframe = copy_data.loc[0:copy_data.shape[0], ['The \"Big One\" will occur in your lifetime?', 'Age', 'Gender']]\r\n",
    "new_dataframe.head(200)"
   ],
   "outputs": [
    {
     "output_type": "execute_result",
     "data": {
      "text/html": [
       "<div>\n",
       "<style scoped>\n",
       "    .dataframe tbody tr th:only-of-type {\n",
       "        vertical-align: middle;\n",
       "    }\n",
       "\n",
       "    .dataframe tbody tr th {\n",
       "        vertical-align: top;\n",
       "    }\n",
       "\n",
       "    .dataframe thead th {\n",
       "        text-align: right;\n",
       "    }\n",
       "</style>\n",
       "<table border=\"1\" class=\"dataframe\">\n",
       "  <thead>\n",
       "    <tr style=\"text-align: right;\">\n",
       "      <th></th>\n",
       "      <th>The \"Big One\" will occur in your lifetime?</th>\n",
       "      <th>Age</th>\n",
       "      <th>Gender</th>\n",
       "    </tr>\n",
       "  </thead>\n",
       "  <tbody>\n",
       "    <tr>\n",
       "      <th>0</th>\n",
       "      <td>No</td>\n",
       "      <td>18 - 29</td>\n",
       "      <td>Male</td>\n",
       "    </tr>\n",
       "    <tr>\n",
       "      <th>1</th>\n",
       "      <td>No</td>\n",
       "      <td>18 - 29</td>\n",
       "      <td>Male</td>\n",
       "    </tr>\n",
       "    <tr>\n",
       "      <th>2</th>\n",
       "      <td>No</td>\n",
       "      <td>18 - 29</td>\n",
       "      <td>Male</td>\n",
       "    </tr>\n",
       "    <tr>\n",
       "      <th>3</th>\n",
       "      <td>No</td>\n",
       "      <td>18 - 29</td>\n",
       "      <td>Male</td>\n",
       "    </tr>\n",
       "    <tr>\n",
       "      <th>4</th>\n",
       "      <td>Yes</td>\n",
       "      <td>18 - 29</td>\n",
       "      <td>Male</td>\n",
       "    </tr>\n",
       "    <tr>\n",
       "      <th>...</th>\n",
       "      <td>...</td>\n",
       "      <td>...</td>\n",
       "      <td>...</td>\n",
       "    </tr>\n",
       "    <tr>\n",
       "      <th>195</th>\n",
       "      <td>No</td>\n",
       "      <td>30 - 44</td>\n",
       "      <td>Male</td>\n",
       "    </tr>\n",
       "    <tr>\n",
       "      <th>196</th>\n",
       "      <td>Yes</td>\n",
       "      <td>45 - 59</td>\n",
       "      <td>Male</td>\n",
       "    </tr>\n",
       "    <tr>\n",
       "      <th>197</th>\n",
       "      <td>No</td>\n",
       "      <td>18 - 29</td>\n",
       "      <td>Female</td>\n",
       "    </tr>\n",
       "    <tr>\n",
       "      <th>198</th>\n",
       "      <td>No</td>\n",
       "      <td>18 - 29</td>\n",
       "      <td>Female</td>\n",
       "    </tr>\n",
       "    <tr>\n",
       "      <th>199</th>\n",
       "      <td>Yes</td>\n",
       "      <td>18 - 29</td>\n",
       "      <td>Female</td>\n",
       "    </tr>\n",
       "  </tbody>\n",
       "</table>\n",
       "<p>200 rows × 3 columns</p>\n",
       "</div>"
      ],
      "text/plain": [
       "    The \"Big One\" will occur in your lifetime?      Age  Gender\n",
       "0                                           No  18 - 29    Male\n",
       "1                                           No  18 - 29    Male\n",
       "2                                           No  18 - 29    Male\n",
       "3                                           No  18 - 29    Male\n",
       "4                                          Yes  18 - 29    Male\n",
       "..                                         ...      ...     ...\n",
       "195                                         No  30 - 44    Male\n",
       "196                                        Yes  45 - 59    Male\n",
       "197                                         No  18 - 29  Female\n",
       "198                                         No  18 - 29  Female\n",
       "199                                        Yes  18 - 29  Female\n",
       "\n",
       "[200 rows x 3 columns]"
      ]
     },
     "metadata": {},
     "execution_count": 91
    }
   ],
   "metadata": {}
  },
  {
   "cell_type": "code",
   "execution_count": 92,
   "source": [
    "# Constructing the Data Appendix\r\n",
    "\r\n"
   ],
   "outputs": [],
   "metadata": {}
  },
  {
   "cell_type": "code",
   "execution_count": 93,
   "source": [
    "# Generating the results"
   ],
   "outputs": [],
   "metadata": {}
  }
 ],
 "metadata": {
  "interpreter": {
   "hash": "8d7479a859c55414954af77e700e50514d78a6d4c3f36b05d2f880335fe633c1"
  },
  "kernelspec": {
   "name": "python3",
   "display_name": "Python 3.8.3rc1 32-bit"
  },
  "language_info": {
   "name": "python",
   "version": "3.8.3rc1",
   "mimetype": "text/x-python",
   "codemirror_mode": {
    "name": "ipython",
    "version": 3
   },
   "pygments_lexer": "ipython3",
   "nbconvert_exporter": "python",
   "file_extension": ".py"
  },
  "orig_nbformat": 4
 },
 "nbformat": 4,
 "nbformat_minor": 2
}