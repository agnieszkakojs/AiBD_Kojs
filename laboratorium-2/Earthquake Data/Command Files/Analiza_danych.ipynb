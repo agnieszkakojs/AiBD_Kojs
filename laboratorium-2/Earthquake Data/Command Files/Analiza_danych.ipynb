{
 "cells": [
  {
   "cell_type": "code",
   "execution_count": 7,
   "metadata": {},
   "outputs": [],
   "source": [
    "import pandas as pd\n"
   ]
  },
  {
   "cell_type": "code",
   "execution_count": 8,
   "metadata": {},
   "outputs": [],
   "source": [
    "# Import original data\n",
    "data = pd.read_csv(r'C:\\Users\\lenovo\\Desktop\\studia\\Semestr V\\Anliza i Bazy Danych\\AiBD_Kojs\\laboratorium-2\\Earthquake Data\\Original Data\\earthquake_data.csv')\n"
   ]
  },
  {
   "cell_type": "code",
   "execution_count": 9,
   "metadata": {},
   "outputs": [],
   "source": [
    "# Processing the data\n",
    "data.head()\n",
    "\n",
    "# Nadanie nowych nazw dla kolumn\n",
    "col1 = 'Worried about earthquakes'\n",
    "col2 = 'Worried about the Big One'\n",
    "col3 = 'The \"Big One\" will occur in your lifetime?'\n",
    "col4 = 'Experienced an earthquake'\n",
    "col5 = 'Take precautions for an earthquake'\n",
    "col6 = 'Familar with the San Andreas Fault line'\n",
    "col7 = 'Familar with the Yellowstone Supervolcano'\n",
    "col8 = 'Age'\n",
    "col9 = 'Gender'\n",
    "col10 = 'Total household combined money'\n",
    "col11 = 'US Region'\n"
   ]
  },
  {
   "cell_type": "code",
   "execution_count": 10,
   "metadata": {},
   "outputs": [],
   "source": [
    "copy_data = data\n",
    "data.head(30)\n",
    "new_column_name = [col1, col2, col3, col4, col5, col6, col7, col8, col9, col10, col11]\n",
    "\n",
    "# Zmiana nazw kolumn na nowe\n",
    "copy_data.columns = new_column_name\n",
    "\n",
    "# Zmienienie Nanów na Prefer not to answer w jednej kolumnie\n",
    "copy_data['Total household combined money'] = copy_data['Total household combined money'].fillna('Prefer not to answer')\n",
    "\n",
    "# Usunięcie wierszy, gdzie występuje jakikolwiek Nan\n",
    "copy_data.dropna(axis=0, inplace=True)\n",
    "copy_data = copy_data.reset_index(drop=True)\n",
    "\n",
    "copy_data.head(10)\n",
    "copy_data.to_csv(r'C:\\Users\\lenovo\\Desktop\\studia\\Semestr V\\Anliza i Bazy Danych\\AiBD_Kojs\\laboratorium-2\\Earthquake Data\\Analysis Data\\earthquake_data_clean.csv', index=False)"
   ]
  },
  {
   "cell_type": "code",
   "execution_count": 11,
   "metadata": {},
   "outputs": [],
   "source": [
    "# Create new table\n",
    "new_dataframe = copy_data.loc[0:copy_data.shape[0], ['The \"Big One\" will occur in your lifetime?', 'Age', 'Gender']]\n",
    "new_dataframe.head(200)\n",
    "\n",
    "new_dataframe.to_csv(r'C:\\Users\\lenovo\\Desktop\\studia\\Semestr V\\Anliza i Bazy Danych\\AiBD_Kojs\\laboratorium-2\\Earthquake Data\\Analysis Data\\earthquake_data_newframe.csv', index=False)"
   ]
  }
 ],
 "metadata": {
  "interpreter": {
   "hash": "8d7479a859c55414954af77e700e50514d78a6d4c3f36b05d2f880335fe633c1"
  },
  "kernelspec": {
   "display_name": "Python 3.8.3rc1 32-bit",
   "name": "python3"
  },
  "language_info": {
   "codemirror_mode": {
    "name": "ipython",
    "version": 3
   },
   "file_extension": ".py",
   "mimetype": "text/x-python",
   "name": "python",
   "nbconvert_exporter": "python",
   "pygments_lexer": "ipython3",
   "version": "3.8.3rc1"
  },
  "orig_nbformat": 4
 },
 "nbformat": 4,
 "nbformat_minor": 2
}
