{
 "cells": [
  {
   "cell_type": "markdown",
   "source": [
    "# Data Appendix\r\n",
    "## Książka kodów i przedwonik użytkownika"
   ],
   "metadata": {}
  },
  {
   "cell_type": "markdown",
   "source": [],
   "metadata": {}
  }
 ],
 "metadata": {
  "orig_nbformat": 4,
  "language_info": {
   "name": "python"
  }
 },
 "nbformat": 4,
 "nbformat_minor": 2
}