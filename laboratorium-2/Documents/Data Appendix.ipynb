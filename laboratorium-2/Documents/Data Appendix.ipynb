{
 "cells": [
  {
   "cell_type": "markdown",
   "source": [
    "# Data Appendix\r\n",
    "## Książka kodów i przedwonik użytkownika"
   ],
   "metadata": {}
  },
  {
   "cell_type": "markdown",
   "source": [
    "### Dla każdej zmiennej\r\n",
    "Pierwsza zmienna: \"Worried about earthquakes\"\r\n",
    "- Zmienna została wyodrębniona z pliku \"earthquake_data.csv\" z folderu Original Data. Zmienna powstała z pytania \"In general, how worried are you about earthquakes?\"\r\n",
    "- Wszystkie obserwacje posiadały prawidłowe dane. Nie było żadnych błędnych wartości.\r\n",
    "\r\n",
    "![alt text here]\r\n"
   ],
   "metadata": {}
  }
 ],
 "metadata": {
  "orig_nbformat": 4,
  "language_info": {
   "name": "python"
  }
 },
 "nbformat": 4,
 "nbformat_minor": 2
}